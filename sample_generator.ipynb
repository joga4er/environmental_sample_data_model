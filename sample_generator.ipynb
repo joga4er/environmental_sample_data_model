{
 "cells": [
  {
   "cell_type": "code",
   "execution_count": null,
   "metadata": {},
   "outputs": [],
   "source": [
    "import pandas as pd\n",
    "import numpy as np\n",
    "from linkml_runtime.dumpers import yaml_dumper\n",
    "import pypandoc as docgenerator\n",
    "from typing import Optional\n",
    "\n",
    "from utils_linkml import(\n",
    "    validate_data_to_schema, convert_data_to_csv,\n",
    "    create_python_schema, generate_schema_excel,\n",
    "    generate_schema_documentation, generate_schema_image_md,\n",
    ")"
   ]
  },
  {
   "cell_type": "markdown",
   "metadata": {},
   "source": [
    "# Load linkML data model, get illustrations and python data classes"
   ]
  },
  {
   "cell_type": "code",
   "execution_count": null,
   "metadata": {},
   "outputs": [],
   "source": [
    "create_python_schema(yamlschema='samples.yaml', pythonschema='samples.py')\n",
    "import chemicals as pyda\n",
    "generate_schema_image_md(yamlschema='samples.yaml', directory='outputs/samples')\n",
    "generate_schema_excel(yamlschema='samples.yaml', excelschema='outputs/samples/schema.xlsx')"
   ]
  },
  {
   "cell_type": "markdown",
   "metadata": {},
   "source": [
    "# Generate Documentation"
   ]
  },
  {
   "cell_type": "code",
   "execution_count": null,
   "metadata": {},
   "outputs": [],
   "source": [
    "# generate documentation\n",
    "generate_schema_documentation(\n",
    "    yamlschema='samples.yaml', directory='outputs/samples',)"
   ]
  }
 ],
 "metadata": {
  "kernelspec": {
   "display_name": "linkml",
   "language": "python",
   "name": "python3"
  },
  "language_info": {
   "codemirror_mode": {
    "name": "ipython",
    "version": 3
   },
   "file_extension": ".py",
   "mimetype": "text/x-python",
   "name": "python",
   "nbconvert_exporter": "python",
   "pygments_lexer": "ipython3",
   "version": "3.11.9"
  }
 },
 "nbformat": 4,
 "nbformat_minor": 2
}
